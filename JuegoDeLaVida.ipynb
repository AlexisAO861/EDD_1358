{
  "nbformat": 4,
  "nbformat_minor": 0,
  "metadata": {
    "colab": {
      "provenance": [],
      "collapsed_sections": [],
      "authorship_tag": "ABX9TyNNF7qQxDl27vAgP1pzq3Ep",
      "include_colab_link": true
    },
    "kernelspec": {
      "name": "python3",
      "display_name": "Python 3"
    },
    "language_info": {
      "name": "python"
    }
  },
  "cells": [
    {
      "cell_type": "markdown",
      "metadata": {
        "id": "view-in-github",
        "colab_type": "text"
      },
      "source": [
        "<a href=\"https://colab.research.google.com/github/AlexisAO861/EDD_1358/blob/main/JuegoDeLaVida.ipynb\" target=\"_parent\"><img src=\"https://colab.research.google.com/assets/colab-badge.svg\" alt=\"Open In Colab\"/></a>"
      ]
    },
    {
      "cell_type": "code",
      "execution_count": null,
      "metadata": {
        "id": "QjKpYXJtbo2p"
      },
      "outputs": [],
      "source": [
        "# imicia un arreglo de 10x10 y asigna valores aleatoriamente\n",
        "import random\n",
        "\n",
        "def inicializar(Nx= 10, Ny= 10):\n",
        "    Tablero = [[0 for j in range (Nx+2)] for i in range(Ny+2)]\n",
        "    for i in range (1,Ny+1):\n",
        "        for j in range (1,Nx+1):\n",
        "            Tablero[i][j]= random.randint(0,1)\n",
        "    return Tablero"
      ]
    },
    {
      "cell_type": "code",
      "source": [
        "import matplotlib.pyplot as plt\n",
        "# crea el tablero para visualizarlo\n",
        "def plot(Tablero):\n",
        "    plt.imshow(Tablero, cmap=\"gray\")\n",
        "    plt.axis('off')\n",
        "    plt.show()"
      ],
      "metadata": {
        "id": "pi6mFNUrKp5H"
      },
      "execution_count": null,
      "outputs": []
    },
    {
      "cell_type": "code",
      "source": [
        "def iter(Tablero):\n",
        "    Ny,Nx = len(Tablero)-2,len(Tablero[0])-2\n",
        "    Tablero2 = [[0 for j in range (Nx+2)] for i in range(Ny+2)]\n",
        "    for i in range (1,Ny+1):\n",
        "        for j in range (1,Nx+1):\n",
        "            c = Tablero[i][j]\n",
        "            v = Tablero[i][j+1] + Tablero[i][j-1] + Tablero[i-1][j] + Tablero[i+1][j] + \\\n",
        "                Tablero[i+1][j+1] + Tablero[i+1][j-1] + Tablero[i-1][j+1] + Tablero[i-1][j-1]\n",
        "            if c == 0:\n",
        "                # verifica cuantas celulas estan vivas para crear una nueva generacion\n",
        "                if v == 3: \n",
        "                    # si hay 3 vecinos vivos la celula vive \n",
        "                    Tablero2[i][j] = 1\n",
        "                else:\n",
        "                    # no hay 3 vecinos vivos la celula permanece muerta \n",
        "                    Tablero2[i][j]= 0\n",
        "            else: \n",
        "                # verifica cuantos vecinos vivos hay para saber si la celula sobrevive\n",
        "                if v == 2 or v == 3:\n",
        "                    Tablero2[i][j] = 1\n",
        "                else:\n",
        "                    Tablero2[i][j]= 0\n",
        "                \n",
        "    return Tablero2\n",
        "def juego(Tablero_inicial, Iteraciones_Max = 10):  # creamos el tablero inicial \n",
        "    contador = 0\n",
        "    Cs = [Tablero_inicial]\n",
        "    while contador < Iteraciones_Max:\n",
        "        Tablero = iter(Tablero_inicial)\n",
        "        Cs.append(Tablero) # guardamos todas las soluciones intermedias en una lista\n",
        "        Tablero_inicial = Tablero\n",
        "        contador += 1\n",
        "    return Cs\n"
      ],
      "metadata": {
        "id": "M5sFZPtgLq8Q"
      },
      "execution_count": null,
      "outputs": []
    },
    {
      "cell_type": "code",
      "source": [
        "# imprimimos todas las iteraciones con arreglos\n",
        "Tablero = inicializar()\n",
        "Cs = juego(Tablero)\n",
        "print(\"Original\")\n",
        "plot(Cs[0])\n",
        "print(\" 1 iteracion\")\n",
        "plot(Cs[1])\n",
        "print(\" 2 iteraciones\")\n",
        "plot(Cs[2])\n",
        "print(\" 3 iteraciones\")\n",
        "plot(Cs[3])\n",
        "print(\" 4 iteraciones\")\n",
        "plot(Cs[4])\n",
        "print(\" 5 iteraciones\")\n",
        "plot(Cs[5])\n",
        "print(\" 6 iteraciones\")\n",
        "plot(Cs[6])\n",
        "print(\" 7 iteraciones\")\n",
        "plot(Cs[7])\n",
        "print(\" 8 iteraciones\")\n",
        "plot(Cs[8])\n",
        "print(\" 9 iteraciones\")\n",
        "plot(Cs[9])\n",
        "print(\" 10 iteraciones\")\n",
        "plot(Cs[10])\n"
      ],
      "metadata": {
        "colab": {
          "base_uri": "https://localhost:8080/",
          "height": 1000
        },
        "id": "HEhhSdkqOi6e",
        "outputId": "5a3f59be-0d41-47e8-c7b6-ecb003dcf549"
      },
      "execution_count": null,
      "outputs": [
        {
          "output_type": "stream",
          "name": "stdout",
          "text": [
            "Original\n"
          ]
        },
        {
          "output_type": "display_data",
          "data": {
            "text/plain": [
              "<Figure size 432x288 with 1 Axes>"
            ],
            "image/png": "[encoded data removed]"
          },
          "metadata": {
            "needs_background": "light"
          }
        },
        {
          "output_type": "stream",
          "name": "stdout",
          "text": [
            " 1 iteracion\n"
          ]
        },
        {
          "output_type": "display_data",
          "data": {
            "text/plain": [
              "<Figure size 432x288 with 1 Axes>"
            ],
            "image/png": "[encoded data removed]"
          },
          "metadata": {
            "needs_background": "light"
          }
        },
        {
          "output_type": "stream",
          "name": "stdout",
          "text": [
            " 2 iteraciones\n"
          ]
        },
        {
          "output_type": "display_data",
          "data": {
            "text/plain": [
              "<Figure size 432x288 with 1 Axes>"
            ],
            "image/png": "[encoded data removed]"
          },
          "metadata": {
            "needs_background": "light"
          }
        },
        {
          "output_type": "stream",
          "name": "stdout",
          "text": [
            " 3 iteraciones\n"
          ]
        },
        {
          "output_type": "display_data",
          "data": {
            "text/plain": [
              "<Figure size 432x288 with 1 Axes>"
            ],
            "image/png": "[encoded data removed]"
          },
          "metadata": {
            "needs_background": "light"
          }
        },
        {
          "output_type": "stream",
          "name": "stdout",
          "text": [
            " 4 iteraciones\n"
          ]
        },
        {
          "output_type": "display_data",
          "data": {
            "text/plain": [
              "<Figure size 432x288 with 1 Axes>"
            ],
            "image/png": "[encoded data removed]"
          },
          "metadata": {
            "needs_background": "light"
          }
        },
        {
          "output_type": "stream",
          "name": "stdout",
          "text": [
            " 5 iteraciones\n"
          ]
        },
        {
          "output_type": "display_data",
          "data": {
            "text/plain": [
              "<Figure size 432x288 with 1 Axes>"
            ],
            "image/png": "[encoded data removed]"
          },
          "metadata": {
            "needs_background": "light"
          }
        },
        {
          "output_type": "stream",
          "name": "stdout",
          "text": [
            " 6 iteraciones\n"
          ]
        },
        {
          "output_type": "display_data",
          "data": {
            "text/plain": [
              "<Figure size 432x288 with 1 Axes>"
            ],
            "image/png": "[encoded data removed]"
          },
          "metadata": {
            "needs_background": "light"
          }
        },
        {
          "output_type": "stream",
          "name": "stdout",
          "text": [
            " 7 iteraciones\n"
          ]
        },
        {
          "output_type": "display_data",
          "data": {
            "text/plain": [
              "<Figure size 432x288 with 1 Axes>"
            ],
            "image/png": "[encoded data removed]"
          },
          "metadata": {
            "needs_background": "light"
          }
        },
        {
          "output_type": "stream",
          "name": "stdout",
          "text": [
            " 8 iteraciones\n"
          ]
        },
        {
          "output_type": "display_data",
          "data": {
            "text/plain": [
              "<Figure size 432x288 with 1 Axes>"
            ],
            "image/png": "[encoded data removed]"
          },
          "metadata": {
            "needs_background": "light"
          }
        },
        {
          "output_type": "stream",
          "name": "stdout",
          "text": [
            " 9 iteraciones\n"
          ]
        },
        {
          "output_type": "display_data",
          "data": {
            "text/plain": [
              "<Figure size 432x288 with 1 Axes>"
            ],
            "image/png": "[encoded data removed]"
          },
          "metadata": {
            "needs_background": "light"
          }
        },
        {
          "output_type": "stream",
          "name": "stdout",
          "text": [
            " 10 iteraciones\n"
          ]
        },
        {
          "output_type": "display_data",
          "data": {
            "text/plain": [
              "<Figure size 432x288 with 1 Axes>"
            ],
            "image/png": "[encoded data removed]"
          },
          "metadata": {
            "needs_background": "light"
          }
        }
      ]
    }
  ]
}